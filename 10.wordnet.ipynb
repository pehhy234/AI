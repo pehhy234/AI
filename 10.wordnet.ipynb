{
  "nbformat": 4,
  "nbformat_minor": 0,
  "metadata": {
    "colab": {
      "name": "2_0(wordnet).ipynb",
      "provenance": [],
      "collapsed_sections": []
    },
    "kernelspec": {
      "name": "python3",
      "display_name": "Python 3"
    },
    "language_info": {
      "name": "python"
    }
  },
  "cells": [
    {
      "cell_type": "markdown",
      "source": [
        "# 中文wordnet\n",
        "完整用法：https://github.com/lopentu/CwnGraph"
      ],
      "metadata": {
        "id": "NLZPCMu0_SMu"
      }
    },
    {
      "cell_type": "markdown",
      "source": [
        ""
      ],
      "metadata": {
        "id": "YSg27L1r_QaN"
      }
    },
    {
      "cell_type": "code",
      "source": [
        "!pip install CwnGraph #安裝CwnGraph"
      ],
      "metadata": {
        "id": "2E02jlhZ8rr7",
        "colab": {
          "base_uri": "https://localhost:8080/"
        },
        "outputId": "cdcc754d-6fbb-4ff8-dcb4-0b060b769bf5"
      },
      "execution_count": 6,
      "outputs": [
        {
          "output_type": "stream",
          "name": "stdout",
          "text": [
            "Requirement already satisfied: CwnGraph in /usr/local/lib/python3.7/dist-packages (0.2.0)\n",
            "Requirement already satisfied: gdown in /usr/local/lib/python3.7/dist-packages (from CwnGraph) (4.4.0)\n",
            "Requirement already satisfied: beautifulsoup4 in /usr/local/lib/python3.7/dist-packages (from gdown->CwnGraph) (4.6.3)\n",
            "Requirement already satisfied: tqdm in /usr/local/lib/python3.7/dist-packages (from gdown->CwnGraph) (4.64.0)\n",
            "Requirement already satisfied: six in /usr/local/lib/python3.7/dist-packages (from gdown->CwnGraph) (1.15.0)\n",
            "Requirement already satisfied: requests[socks] in /usr/local/lib/python3.7/dist-packages (from gdown->CwnGraph) (2.23.0)\n",
            "Requirement already satisfied: filelock in /usr/local/lib/python3.7/dist-packages (from gdown->CwnGraph) (3.6.0)\n",
            "Requirement already satisfied: certifi>=2017.4.17 in /usr/local/lib/python3.7/dist-packages (from requests[socks]->gdown->CwnGraph) (2021.10.8)\n",
            "Requirement already satisfied: idna<3,>=2.5 in /usr/local/lib/python3.7/dist-packages (from requests[socks]->gdown->CwnGraph) (2.10)\n",
            "Requirement already satisfied: chardet<4,>=3.0.2 in /usr/local/lib/python3.7/dist-packages (from requests[socks]->gdown->CwnGraph) (3.0.4)\n",
            "Requirement already satisfied: urllib3!=1.25.0,!=1.25.1,<1.26,>=1.21.1 in /usr/local/lib/python3.7/dist-packages (from requests[socks]->gdown->CwnGraph) (1.24.3)\n",
            "Requirement already satisfied: PySocks!=1.5.7,>=1.5.6 in /usr/local/lib/python3.7/dist-packages (from requests[socks]->gdown->CwnGraph) (1.7.1)\n"
          ]
        }
      ]
    },
    {
      "cell_type": "markdown",
      "source": [
        "# 將`cwn_graph.pyobj`上傳到colab目錄"
      ],
      "metadata": {
        "id": "-1W4TtOp-L44"
      }
    },
    {
      "cell_type": "code",
      "execution_count": 7,
      "metadata": {
        "colab": {
          "base_uri": "https://localhost:8080/"
        },
        "id": "Kuuu-WmF8M5u",
        "outputId": "558cc06e-1640-48be-daa5-17beb95b7fcb"
      },
      "outputs": [
        {
          "output_type": "stream",
          "name": "stdout",
          "text": [
            "CWN data installed\n"
          ]
        }
      ],
      "source": [
        "from pprint import pprint\n",
        "from CwnGraph import CwnBase\n",
        "CwnBase.install_cwn(\"cwn_graph.pyobj\")"
      ]
    },
    {
      "cell_type": "code",
      "source": [
        "from CwnGraph import CwnBase\n",
        "cwn = CwnBase()"
      ],
      "metadata": {
        "id": "TRJpglUX8eX7"
      },
      "execution_count": 8,
      "outputs": []
    },
    {
      "cell_type": "code",
      "source": [
        "lemmas = cwn.find_lemma(\"機\") #找有\"機\"字的詞語\n",
        "lemmas"
      ],
      "metadata": {
        "colab": {
          "base_uri": "https://localhost:8080/"
        },
        "id": "IyFF5sOw9QQj",
        "outputId": "b0096479-e9a7-429f-e777-9bfda5be544a"
      },
      "execution_count": 9,
      "outputs": [
        {
          "output_type": "execute_result",
          "data": {
            "text/plain": [
              "[<CwnLemma: 機關_2>,\n",
              " <CwnLemma: 機動_1>,\n",
              " <CwnLemma: 有機_1>,\n",
              " <CwnLemma: 隨機_1>,\n",
              " <CwnLemma: 機組_1>,\n",
              " <CwnLemma: 轉機_1>,\n",
              " <CwnLemma: 轉機_2>,\n",
              " <CwnLemma: 機緣_1>,\n",
              " <CwnLemma: 乘機_1>,\n",
              " <CwnLemma: 機讀_1>,\n",
              " <CwnLemma: 隨機_2>,\n",
              " <CwnLemma: 隨機_3>,\n",
              " <CwnLemma: 機組_2>,\n",
              " <CwnLemma: 機組_3>,\n",
              " <CwnLemma: 乘機_2>,\n",
              " <CwnLemma: 機構_1>,\n",
              " <CwnLemma: 機會_1>,\n",
              " <CwnLemma: 危機_1>,\n",
              " <CwnLemma: 機器_1>,\n",
              " <CwnLemma: 飛機_1>,\n",
              " <CwnLemma: 機車_1>,\n",
              " <CwnLemma: 機場_1>,\n",
              " <CwnLemma: 機關_1>,\n",
              " <CwnLemma: 機械_1>,\n",
              " <CwnLemma: 有機體_1>,\n",
              " <CwnLemma: 停機_1>,\n",
              " <CwnLemma: 機_1>,\n",
              " <CwnLemma: 機_2>,\n",
              " <CwnLemma: 機械能_1>,\n",
              " <CwnLemma: 打火機_1>,\n",
              " <CwnLemma: 投機_1>,\n",
              " <CwnLemma: 機能_1>,\n",
              " <CwnLemma: 機械式_1>,\n",
              " <CwnLemma: 機械論_1>,\n",
              " <CwnLemma: 無機_1>,\n",
              " <CwnLemma: 趁機_1>,\n",
              " <CwnLemma: 心機_1>,\n",
              " <CwnLemma: 機動性_1>,\n",
              " <CwnLemma: 機型_1>,\n",
              " <CwnLemma: 有機化學_1>,\n",
              " <CwnLemma: 機票_1>,\n",
              " <CwnLemma: 登機證_1>,\n",
              " <CwnLemma: 當機_1>,\n",
              " <CwnLemma: 機隊_1>,\n",
              " <CwnLemma: 洛杉機_1>,\n",
              " <CwnLemma: 機員_1>,\n",
              " <CwnLemma: 飛機場_1>,\n",
              " <CwnLemma: 機身_1>,\n",
              " <CwnLemma: 班機_1>,\n",
              " <CwnLemma: 機器人_1>,\n",
              " <CwnLemma: 停機坪_1>,\n",
              " <CwnLemma: 直昇飛機_1>,\n",
              " <CwnLemma: 放映機_1>,\n",
              " <CwnLemma: 雙翼飛機_1>,\n",
              " <CwnLemma: 吹風機_1>,\n",
              " <CwnLemma: 轟炸機_1>,\n",
              " <CwnLemma: 推土機_1>,\n",
              " <CwnLemma: 機艙_1>,\n",
              " <CwnLemma: 計算機_1>,\n",
              " <CwnLemma: 照相機_1>,\n",
              " <CwnLemma: 織布機_1>,\n",
              " <CwnLemma: 提款機_1>,\n",
              " <CwnLemma: 收銀機_1>,\n",
              " <CwnLemma: 光碟機_1>,\n",
              " <CwnLemma: 交換機_1>,\n",
              " <CwnLemma: 升降機_1>,\n",
              " <CwnLemma: 壓縮機_1>,\n",
              " <CwnLemma: 主機板_1>,\n",
              " <CwnLemma: 起重機_1>,\n",
              " <CwnLemma: 機軸_1>,\n",
              " <CwnLemma: 耕耘機_1>,\n",
              " <CwnLemma: 洗碗機_1>,\n",
              " <CwnLemma: 挖泥機_1>,\n",
              " <CwnLemma: 疏浚機_1>,\n",
              " <CwnLemma: 鑽機_1>,\n",
              " <CwnLemma: 烘乾機_1>,\n",
              " <CwnLemma: 發電機_1>,\n",
              " <CwnLemma: 電動機_1>,\n",
              " <CwnLemma: 傳真機_1>,\n",
              " <CwnLemma: 幻燈機_1>,\n",
              " <CwnLemma: 抽風機_1>,\n",
              " <CwnLemma: 分機_1>,\n",
              " <CwnLemma: 農機_1>,\n",
              " <CwnLemma: 戰鬥機_1>,\n",
              " <CwnLemma: 教練機_1>,\n",
              " <CwnLemma: 渦輪機_1>,\n",
              " <CwnLemma: 滑翔機_1>,\n",
              " <CwnLemma: 留聲機_1>,\n",
              " <CwnLemma: 研磨機_1>,\n",
              " <CwnLemma: 扳機_1>,\n",
              " <CwnLemma: 板機_1>,\n",
              " <CwnLemma: 收割機_1>,\n",
              " <CwnLemma: 乾草機_1>,\n",
              " <CwnLemma: 直升機_1>,\n",
              " <CwnLemma: 截擊機_1>,\n",
              " <CwnLemma: 對講機_1>,\n",
              " <CwnLemma: 內燃機_1>,\n",
              " <CwnLemma: 噴射機_1>,\n",
              " <CwnLemma: 機床_1>,\n",
              " <CwnLemma: 磁碟機_1>,\n",
              " <CwnLemma: 主機_1>,\n",
              " <CwnLemma: 機制_1>,\n",
              " <CwnLemma: 微處理機_1>,\n",
              " <CwnLemma: 切片機_1>,\n",
              " <CwnLemma: 數據機_1>,\n",
              " <CwnLemma: 機動船_1>,\n",
              " <CwnLemma: 影印機_1>,\n",
              " <CwnLemma: 機位_1>,\n",
              " <CwnLemma: 鑽孔機_1>,\n",
              " <CwnLemma: 挖土機_1>,\n",
              " <CwnLemma: 印刷機_1>,\n",
              " <CwnLemma: 印表機_1>,\n",
              " <CwnLemma: 抽水機_1>,\n",
              " <CwnLemma: 收音機_1>,\n",
              " <CwnLemma: 接收機_1>,\n",
              " <CwnLemma: 錄音機_1>,\n",
              " <CwnLemma: 終端機_1>,\n",
              " <CwnLemma: 縫紉機_1>,\n",
              " <CwnLemma: 脫水機_1>,\n",
              " <CwnLemma: 紡織機_1>,\n",
              " <CwnLemma: 果汁機_1>,\n",
              " <CwnLemma: 碎石機_1>,\n",
              " <CwnLemma: 釘書機_1>,\n",
              " <CwnLemma: 蒸氣機_1>,\n",
              " <CwnLemma: 機尾_1>,\n",
              " <CwnLemma: 電報機_1>,\n",
              " <CwnLemma: 信號機_1>,\n",
              " <CwnLemma: 攝影機_1>,\n",
              " <CwnLemma: 電視機_1>,\n",
              " <CwnLemma: 打穀機_1>,\n",
              " <CwnLemma: 收報機_1>,\n",
              " <CwnLemma: 拖拉機_1>,\n",
              " <CwnLemma: 發射機_1>,\n",
              " <CwnLemma: 運輸機_1>,\n",
              " <CwnLemma: 打字機_1>,\n",
              " <CwnLemma: 通風機_1>,\n",
              " <CwnLemma: 錄影機_1>,\n",
              " <CwnLemma: 投影機_1>,\n",
              " <CwnLemma: 洗衣機_1>,\n",
              " <CwnLemma: 直昇機_1>,\n",
              " <CwnLemma: 機翼_1>,\n",
              " <CwnLemma: 機件_1>,\n",
              " <CwnLemma: 生機_1>,\n",
              " <CwnLemma: 動機_1>,\n",
              " <CwnLemma: 機敏_1>,\n",
              " <CwnLemma: 機警_1>,\n",
              " <CwnLemma: 機密_1>,\n",
              " <CwnLemma: 機靈_1>,\n",
              " <CwnLemma: 機智_1>,\n",
              " <CwnLemma: 劫機_1>,\n",
              " <CwnLemma: 冷氣機_1>,\n",
              " <CwnLemma: 手機_1>,\n",
              " <CwnLemma: 時機_1>,\n",
              " <CwnLemma: 司機_1>,\n",
              " <CwnLemma: 相機_1>,\n",
              " <CwnLemma: 機率_1>,\n",
              " <CwnLemma: 客機_1>,\n",
              " <CwnLemma: 良機_1>,\n",
              " <CwnLemma: 契機_1>,\n",
              " <CwnLemma: 戰機_1>,\n",
              " <CwnLemma: 機掰_None>,\n",
              " <CwnLemma: 機歪_None>,\n",
              " <CwnLemma: 機機歪歪_None>]"
            ]
          },
          "metadata": {},
          "execution_count": 9
        }
      ]
    },
    {
      "cell_type": "markdown",
      "source": [
        "#英文wordnet\n",
        "完整用法：https://www.nltk.org/howto/wordnet.html"
      ],
      "metadata": {
        "id": "13NyCY9p_Hpi"
      }
    },
    {
      "cell_type": "code",
      "source": [
        "import nltk\n",
        "nltk.download('wordnet')\n",
        "from nltk.corpus import wordnet as wn\n",
        "wn.synsets('cat')"
      ],
      "metadata": {
        "colab": {
          "base_uri": "https://localhost:8080/"
        },
        "id": "aDX0UHsY-dR5",
        "outputId": "660e5e19-8620-4fdc-da40-0fc2ce013003"
      },
      "execution_count": 10,
      "outputs": [
        {
          "output_type": "stream",
          "name": "stdout",
          "text": [
            "[nltk_data] Downloading package wordnet to /root/nltk_data...\n",
            "[nltk_data]   Unzipping corpora/wordnet.zip.\n"
          ]
        },
        {
          "output_type": "execute_result",
          "data": {
            "text/plain": [
              "[Synset('cat.n.01'),\n",
              " Synset('guy.n.01'),\n",
              " Synset('cat.n.03'),\n",
              " Synset('kat.n.01'),\n",
              " Synset('cat-o'-nine-tails.n.01'),\n",
              " Synset('caterpillar.n.02'),\n",
              " Synset('big_cat.n.01'),\n",
              " Synset('computerized_tomography.n.01'),\n",
              " Synset('cat.v.01'),\n",
              " Synset('vomit.v.01')]"
            ]
          },
          "metadata": {},
          "execution_count": 10
        }
      ]
    }
  ]
}