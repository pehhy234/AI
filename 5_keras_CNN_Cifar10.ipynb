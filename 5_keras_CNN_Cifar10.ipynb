{
  "nbformat": 4,
  "nbformat_minor": 0,
  "metadata": {
    "colab": {
      "name": "5.keras_CNN_Cifar10.ipynb",
      "provenance": []
    },
    "kernelspec": {
      "name": "python3",
      "display_name": "Python 3"
    },
    "language_info": {
      "name": "python"
    },
    "accelerator": "GPU"
  },
  "cells": [
    {
      "cell_type": "markdown",
      "metadata": {
        "id": "view-in-github"
      },
      "source": [
        "<a href=\"https://colab.research.google.com/github/shhuangmust/AI/blob/110-2/5.keras_CNN_Cifar10.ipynb\" target=\"_parent\"><img src=\"https://colab.research.google.com/assets/colab-badge.svg\" alt=\"Open In Colab\"/></a>"
      ]
    },
    {
      "cell_type": "code",
      "source": [
        "from tensorflow import keras\n",
        "from keras.models import Sequential\n",
        "from keras.layers import Dense, Conv2D, MaxPooling2D, Flatten\n",
        "model=Sequential()\n",
        "model.add(Conv2D(filters=64, kernel_size=(5, 5), input_shape=(32, 32, 3), activation='relu'))\n",
        "model.add(Conv2D(filters=64, kernel_size=(5, 5), activation='relu'))\n",
        "model.add(MaxPooling2D(pool_size=2))\n",
        "model.add(Conv2D(filters=128, kernel_size=(5, 5), activation='relu'))\n",
        "model.add(Conv2D(filters=128, kernel_size=(5, 5), activation='relu'))\n",
        "model.add(MaxPooling2D(pool_size=2))\n",
        "model.add(Flatten())\n",
        "model.add(Dense(10, activation='softmax'))\n",
        "model.summary()\n",
        "model.compile(optimizer='rmsprop', loss='categorical_crossentropy', metrics=['accuracy'])"
      ],
      "metadata": {
        "colab": {
          "base_uri": "https://localhost:8080/"
        },
        "id": "LQ_HZ-tK8L-C",
        "outputId": "c576c62d-eeb8-4be8-fa2c-66e62f523c49"
      },
      "execution_count": 1,
      "outputs": [
        {
          "output_type": "stream",
          "name": "stdout",
          "text": [
            "Model: \"sequential\"\n",
            "_________________________________________________________________\n",
            " Layer (type)                Output Shape              Param #   \n",
            "=================================================================\n",
            " conv2d (Conv2D)             (None, 28, 28, 64)        4864      \n",
            "                                                                 \n",
            " conv2d_1 (Conv2D)           (None, 24, 24, 64)        102464    \n",
            "                                                                 \n",
            " max_pooling2d (MaxPooling2D  (None, 12, 12, 64)       0         \n",
            " )                                                               \n",
            "                                                                 \n",
            " conv2d_2 (Conv2D)           (None, 8, 8, 128)         204928    \n",
            "                                                                 \n",
            " conv2d_3 (Conv2D)           (None, 4, 4, 128)         409728    \n",
            "                                                                 \n",
            " max_pooling2d_1 (MaxPooling  (None, 2, 2, 128)        0         \n",
            " 2D)                                                             \n",
            "                                                                 \n",
            " flatten (Flatten)           (None, 512)               0         \n",
            "                                                                 \n",
            " dense (Dense)               (None, 10)                5130      \n",
            "                                                                 \n",
            "=================================================================\n",
            "Total params: 727,114\n",
            "Trainable params: 727,114\n",
            "Non-trainable params: 0\n",
            "_________________________________________________________________\n"
          ]
        }
      ]
    },
    {
      "cell_type": "code",
      "source": [
        "cifar10=keras.datasets.cifar10\n",
        "(train_data, train_label), (test_data, test_label) = cifar10.load_data()\n",
        "train_label_original=train_label\n",
        "train_label = keras.utils.to_categorical(train_label)\n",
        "test_label = keras.utils.to_categorical(test_label)"
      ],
      "metadata": {
        "id": "4eM5EOSr4DLB",
        "colab": {
          "base_uri": "https://localhost:8080/"
        },
        "outputId": "c33135b9-575f-454e-976a-f827a1a67950"
      },
      "execution_count": 2,
      "outputs": [
        {
          "output_type": "stream",
          "name": "stdout",
          "text": [
            "Downloading data from https://www.cs.toronto.edu/~kriz/cifar-10-python.tar.gz\n",
            "170500096/170498071 [==============================] - 2s 0us/step\n",
            "170508288/170498071 [==============================] - 2s 0us/step\n"
          ]
        }
      ]
    },
    {
      "cell_type": "code",
      "source": [
        "import matplotlib.pyplot as plt\n",
        "category=['airplane','automobile','bird','cat','deer','dog','frog','horse','ship','truck']\n",
        "plt.imshow(train_data[0])\n",
        "plt.title(category[int(train_label_original[0])])\n",
        "plt.show()\n",
        "print(train_label_original[0])"
      ],
      "metadata": {
        "colab": {
          "base_uri": "https://localhost:8080/",
          "height": 298
        },
        "id": "4j8cPTbDahQr",
        "outputId": "bafa35d5-633d-442d-c03c-29cede3b1da8"
      },
      "execution_count": 3,
      "outputs": [
        {
          "output_type": "display_data",
          "data": {
            "text/plain": [
              "<Figure size 432x288 with 1 Axes>"
            ],
            "image/png": "[encoded data removed]"
          },
          "metadata": {
            "needs_background": "light"
          }
        },
        {
          "output_type": "stream",
          "name": "stdout",
          "text": [
            "[6]\n"
          ]
        }
      ]
    },
    {
      "cell_type": "code",
      "source": [
        "train_history=model.fit(train_data,train_label,epochs=30,batch_size=512)\n"
      ],
      "metadata": {
        "id": "UFCQb8bgy3nU",
        "colab": {
          "base_uri": "https://localhost:8080/"
        },
        "outputId": "44fe95c1-2df8-4d5c-89cb-51b892d20336"
      },
      "execution_count": 4,
      "outputs": [
        {
          "output_type": "stream",
          "name": "stdout",
          "text": [
            "Epoch 1/30\n",
            "98/98 [==============================] - 17s 53ms/step - loss: 13.6370 - accuracy: 0.1658\n",
            "Epoch 2/30\n",
            "98/98 [==============================] - 4s 45ms/step - loss: 2.2706 - accuracy: 0.2199\n",
            "Epoch 3/30\n",
            "98/98 [==============================] - 4s 46ms/step - loss: 2.0406 - accuracy: 0.3003\n",
            "Epoch 4/30\n",
            "98/98 [==============================] - 4s 46ms/step - loss: 1.9352 - accuracy: 0.3425\n",
            "Epoch 5/30\n",
            "98/98 [==============================] - 5s 46ms/step - loss: 1.6937 - accuracy: 0.4121\n",
            "Epoch 6/30\n",
            "98/98 [==============================] - 5s 46ms/step - loss: 1.6259 - accuracy: 0.4422\n",
            "Epoch 7/30\n",
            "98/98 [==============================] - 5s 47ms/step - loss: 1.4691 - accuracy: 0.4965\n",
            "Epoch 8/30\n",
            "98/98 [==============================] - 5s 48ms/step - loss: 1.3798 - accuracy: 0.5273\n",
            "Epoch 9/30\n",
            "98/98 [==============================] - 5s 48ms/step - loss: 1.2191 - accuracy: 0.5815\n",
            "Epoch 10/30\n",
            "98/98 [==============================] - 5s 48ms/step - loss: 1.0837 - accuracy: 0.6277\n",
            "Epoch 11/30\n",
            "98/98 [==============================] - 5s 48ms/step - loss: 1.0159 - accuracy: 0.6523\n",
            "Epoch 12/30\n",
            "98/98 [==============================] - 5s 50ms/step - loss: 0.8845 - accuracy: 0.6989\n",
            "Epoch 13/30\n",
            "98/98 [==============================] - 5s 48ms/step - loss: 0.7953 - accuracy: 0.7293\n",
            "Epoch 14/30\n",
            "98/98 [==============================] - 5s 49ms/step - loss: 0.6990 - accuracy: 0.7643\n",
            "Epoch 15/30\n",
            "98/98 [==============================] - 5s 49ms/step - loss: 0.6016 - accuracy: 0.7947\n",
            "Epoch 16/30\n",
            "98/98 [==============================] - 5s 48ms/step - loss: 0.5185 - accuracy: 0.8233\n",
            "Epoch 17/30\n",
            "98/98 [==============================] - 5s 48ms/step - loss: 0.4520 - accuracy: 0.8457\n",
            "Epoch 18/30\n",
            "98/98 [==============================] - 5s 48ms/step - loss: 0.3959 - accuracy: 0.8668\n",
            "Epoch 19/30\n",
            "98/98 [==============================] - 5s 48ms/step - loss: 0.3505 - accuracy: 0.8824\n",
            "Epoch 20/30\n",
            "98/98 [==============================] - 5s 48ms/step - loss: 0.3173 - accuracy: 0.8964\n",
            "Epoch 21/30\n",
            "98/98 [==============================] - 5s 48ms/step - loss: 0.2918 - accuracy: 0.9050\n",
            "Epoch 22/30\n",
            "98/98 [==============================] - 5s 48ms/step - loss: 0.2854 - accuracy: 0.9117\n",
            "Epoch 23/30\n",
            "98/98 [==============================] - 5s 48ms/step - loss: 0.2954 - accuracy: 0.9101\n",
            "Epoch 24/30\n",
            "98/98 [==============================] - 5s 48ms/step - loss: 0.2408 - accuracy: 0.9262\n",
            "Epoch 25/30\n",
            "98/98 [==============================] - 5s 48ms/step - loss: 0.2335 - accuracy: 0.9274\n",
            "Epoch 26/30\n",
            "98/98 [==============================] - 5s 48ms/step - loss: 0.2302 - accuracy: 0.9328\n",
            "Epoch 27/30\n",
            "98/98 [==============================] - 5s 48ms/step - loss: 0.2281 - accuracy: 0.9330\n",
            "Epoch 28/30\n",
            "98/98 [==============================] - 5s 48ms/step - loss: 0.2239 - accuracy: 0.9368\n",
            "Epoch 29/30\n",
            "98/98 [==============================] - 5s 48ms/step - loss: 0.2106 - accuracy: 0.9392\n",
            "Epoch 30/30\n",
            "98/98 [==============================] - 5s 48ms/step - loss: 0.2042 - accuracy: 0.9437\n"
          ]
        }
      ]
    },
    {
      "cell_type": "code",
      "source": [
        "score=model.evaluate(test_data, test_label)\n",
        "print(score[1])"
      ],
      "metadata": {
        "id": "SC2VW7yl87F-",
        "colab": {
          "base_uri": "https://localhost:8080/"
        },
        "outputId": "642cbfd6-99e8-4a41-c9a0-2929e8ba8a49"
      },
      "execution_count": 5,
      "outputs": [
        {
          "output_type": "stream",
          "name": "stdout",
          "text": [
            "313/313 [==============================] - 2s 4ms/step - loss: 3.3996 - accuracy: 0.5999\n",
            "0.5999000072479248\n"
          ]
        }
      ]
    },
    {
      "cell_type": "code",
      "source": [
        "#繪製正確性與損失歷史圖\n",
        "import matplotlib.pyplot as plt\n",
        "import numpy as np\n",
        "\n",
        "def show_train_history(train_history, train):\n",
        "    plt.plot(train_history.history[train])\n",
        "    plt.title('Train History')\n",
        "    plt.ylabel(train)\n",
        "    plt.xlabel('Epoch')\n",
        "    plt.legend(['train'], loc='center right')\n",
        "    plt.show()\n",
        "\n",
        "show_train_history(train_history, 'accuracy')\n",
        "show_train_history(train_history, 'loss')"
      ],
      "metadata": {
        "colab": {
          "base_uri": "https://localhost:8080/",
          "height": 573
        },
        "id": "YycOQ_auS_1s",
        "outputId": "fac5db14-7753-4043-884b-13e961197ba1"
      },
      "execution_count": 6,
      "outputs": [
        {
          "output_type": "display_data",
          "data": {
            "text/plain": [
              "<Figure size 432x288 with 1 Axes>"
            ],
            "image/png": "[encoded data removed]"
          },
          "metadata": {
            "needs_background": "light"
          }
        },
        {
          "output_type": "display_data",
          "data": {
            "text/plain": [
              "<Figure size 432x288 with 1 Axes>"
            ],
            "image/png": "[encoded data removed]"
          },
          "metadata": {
            "needs_background": "light"
          }
        }
      ]
    }
  ]
}