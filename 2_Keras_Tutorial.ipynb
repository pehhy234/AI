{
  "nbformat": 4,
  "nbformat_minor": 0,
  "metadata": {
    "colab": {
      "name": " 2_Keras_Tutorial.ipynb",
      "provenance": []
    },
    "kernelspec": {
      "name": "python3",
      "display_name": "Python 3"
    },
    "language_info": {
      "name": "python"
    }
  },
  "cells": [
    {
      "cell_type": "code",
      "execution_count": 1,
      "metadata": {
        "id": "G3bu9d6tm78B",
        "colab": {
          "base_uri": "https://localhost:8080/"
        },
        "outputId": "144a3590-5d12-4edf-f7a7-5a34fba90c96"
      },
      "outputs": [
        {
          "output_type": "stream",
          "name": "stdout",
          "text": [
            "Model: \"sequential\"\n",
            "_________________________________________________________________\n",
            " Layer (type)                Output Shape              Param #   \n",
            "=================================================================\n",
            " dense (Dense)               (None, 32)                352       \n",
            "                                                                 \n",
            " dense_1 (Dense)             (None, 1)                 33        \n",
            "                                                                 \n",
            "=================================================================\n",
            "Total params: 385\n",
            "Trainable params: 385\n",
            "Non-trainable params: 0\n",
            "_________________________________________________________________\n"
          ]
        }
      ],
      "source": [
        "from tensorflow import keras\n",
        "from keras.models import Sequential\n",
        "from keras.layers import Dense\n",
        "model = Sequential()\n",
        "model.add(Dense(32, activation='relu',input_dim=10))\n",
        "model.add(Dense(1, activation='sigmoid'))\n",
        "model.compile(optimizer='rmsprop', loss='binary_crossentropy', metrics=['accuracy'])\n",
        "model.summary()"
      ]
    },
    {
      "cell_type": "code",
      "source": [
        "import numpy as np\n",
        "data = np.random.random((1000,10)) #隨機產生1000筆資料，每筆資料包含十個float數字\n",
        "label = np.random.randint(2,size=(1000,1)) #隨機產生1000筆資料，每筆資料上限為2(意思就是0或1)\n",
        "print(data[0:3])\n",
        "print(label[0:3])"
      ],
      "metadata": {
        "colab": {
          "base_uri": "https://localhost:8080/"
        },
        "id": "xVI9myCLzgbL",
        "outputId": "63589c55-3823-4bfe-cf46-539431f14b0c"
      },
      "execution_count": 2,
      "outputs": [
        {
          "output_type": "stream",
          "name": "stdout",
          "text": [
            "[[0.70810226 0.19011518 0.25849783 0.30699189 0.30335296 0.95196407\n",
            "  0.63845173 0.52849678 0.2559619  0.29544942]\n",
            " [0.07086293 0.28106848 0.50581352 0.18087714 0.32086916 0.11211826\n",
            "  0.78672839 0.7691379  0.35057745 0.55056976]\n",
            " [0.12898062 0.08168995 0.57936719 0.61334677 0.88047909 0.62226251\n",
            "  0.57563464 0.27854889 0.97589198 0.90227286]]\n",
            "[[1]\n",
            " [1]\n",
            " [0]]\n"
          ]
        }
      ]
    },
    {
      "cell_type": "code",
      "source": [
        "model.fit(data, label, epochs=10, batch_size=32)"
      ],
      "metadata": {
        "colab": {
          "base_uri": "https://localhost:8080/"
        },
        "id": "bGsznwQ30FDi",
        "outputId": "8a270be3-c168-4fef-bf85-1c03a839ba4b"
      },
      "execution_count": 3,
      "outputs": [
        {
          "output_type": "stream",
          "name": "stdout",
          "text": [
            "Epoch 1/10\n",
            "32/32 [==============================] - 1s 2ms/step - loss: 0.7006 - accuracy: 0.5000\n",
            "Epoch 2/10\n",
            "32/32 [==============================] - 0s 2ms/step - loss: 0.6952 - accuracy: 0.5010\n",
            "Epoch 3/10\n",
            "32/32 [==============================] - 0s 2ms/step - loss: 0.6937 - accuracy: 0.4900\n",
            "Epoch 4/10\n",
            "32/32 [==============================] - 0s 2ms/step - loss: 0.6932 - accuracy: 0.5190\n",
            "Epoch 5/10\n",
            "32/32 [==============================] - 0s 2ms/step - loss: 0.6923 - accuracy: 0.5180\n",
            "Epoch 6/10\n",
            "32/32 [==============================] - 0s 2ms/step - loss: 0.6915 - accuracy: 0.5280\n",
            "Epoch 7/10\n",
            "32/32 [==============================] - 0s 2ms/step - loss: 0.6910 - accuracy: 0.5190\n",
            "Epoch 8/10\n",
            "32/32 [==============================] - 0s 2ms/step - loss: 0.6905 - accuracy: 0.5340\n",
            "Epoch 9/10\n",
            "32/32 [==============================] - 0s 2ms/step - loss: 0.6902 - accuracy: 0.5290\n",
            "Epoch 10/10\n",
            "32/32 [==============================] - 0s 2ms/step - loss: 0.6894 - accuracy: 0.5370\n"
          ]
        },
        {
          "output_type": "execute_result",
          "data": {
            "text/plain": [
              "<keras.callbacks.History at 0x7f69c074a650>"
            ]
          },
          "metadata": {},
          "execution_count": 3
        }
      ]
    }
  ]
}