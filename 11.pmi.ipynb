{
  "nbformat": 4,
  "nbformat_minor": 0,
  "metadata": {
    "colab": {
      "name": "2_1(pmi).ipynb",
      "provenance": [],
      "collapsed_sections": []
    },
    "kernelspec": {
      "name": "python3",
      "display_name": "Python 3"
    },
    "language_info": {
      "name": "python"
    }
  },
  "cells": [
    {
      "cell_type": "markdown",
      "source": [
        "<h1>PMI (Pointwise Mutual Information)</h1>\n",
        "\n",
        "\n",
        "*   PMI是利用分散式表示法，表達字詞意思的其中一種\n",
        "*   分散的定義，就是一個詞並非本身所決定，是「分散在其旁」的其它元素所決定\n",
        "*   PMI則是計算那些字比較容易一起出現\n",
        "*   例如：在新聞報導中，有\"New\"，\"York\"這兩個字一起出現，代表一個地名，所以當出現了New這個字，則有可能出現York，這個可能性就是計算其PMI\n",
        "*   下面的範例，則是給定一個M擁有十個字詞，每個字詞與其他字詞的出現次數統計，然後去計算其PMI\n",
        "\n",
        "\n",
        "\n",
        "\n",
        "\n",
        "\n",
        "\n",
        "\n"
      ],
      "metadata": {
        "id": "SS3AdrkiZC6p"
      }
    },
    {
      "cell_type": "code",
      "execution_count": 1,
      "metadata": {
        "id": "npK_sqxieQWw",
        "outputId": "5fc386c7-5521-427d-ac78-181cdf65bd32",
        "colab": {
          "base_uri": "https://localhost:8080/"
        }
      },
      "outputs": [
        {
          "output_type": "stream",
          "name": "stdout",
          "text": [
            "[[0.   0.18 0.07 0.07 0.07 0.3  0.3  0.3  0.3  0.22]\n",
            " [0.18 0.   0.44 0.44 0.44 0.   0.   0.   0.66 0.18]\n",
            " [0.07 0.44 0.   1.03 1.03 0.   0.   0.   0.   0.07]\n",
            " [0.07 0.44 1.03 0.   1.03 0.   0.   0.   0.   0.07]\n",
            " [0.07 0.44 1.03 1.03 0.   0.   0.   0.   0.   0.07]\n",
            " [0.3  0.   0.   0.   0.   0.   1.48 0.78 0.   0.3 ]\n",
            " [0.3  0.   0.   0.   0.   1.48 0.   0.78 0.   0.3 ]\n",
            " [0.3  0.   0.   0.   0.   0.78 0.78 0.   0.78 0.3 ]\n",
            " [0.3  0.66 0.   0.   0.   0.   0.   0.78 0.   0.3 ]\n",
            " [0.22 0.18 0.07 0.07 0.07 0.3  0.3  0.3  0.3  0.  ]]\n"
          ]
        }
      ],
      "source": [
        "import numpy as np\n",
        "\n",
        "M = np.array([[0, 2, 1, 1, 1, 1, 1, 2, 1, 3],\n",
        "              [2, 0, 1, 1, 1, 0, 0, 1, 1, 2],\n",
        "              [1, 1, 0, 1, 1, 0, 0, 0, 0, 1],\n",
        "              [1, 1, 1, 0, 1, 0, 0, 0, 0, 1],\n",
        "              [1, 1, 1, 1, 0, 0, 0, 0, 0, 1],\n",
        "              [1, 0, 0, 0, 0, 0, 1, 1, 0, 1],\n",
        "              [1, 0, 0, 0, 0, 1, 0, 1, 0, 1],\n",
        "              [2, 1, 0, 0, 0, 1, 1, 0, 1, 2],\n",
        "              [1, 1, 0, 0, 0, 0, 0, 1, 0, 1],\n",
        "              [3, 2, 1, 1, 1, 1, 1, 2, 1, 0]])\n",
        "\n",
        "def pmi(M, positive=True):\n",
        "    col_totals = M.sum(axis=0)\n",
        "    row_totals = M.sum(axis=1)\n",
        "    total = col_totals.sum()\n",
        "    expected = np.outer(row_totals, col_totals) / total\n",
        "    M = M / expected\n",
        "    # Silence distracting warnings about log(0):\n",
        "    with np.errstate(divide='ignore'):\n",
        "        M = np.log(M)\n",
        "    M[np.isinf(M)] = 0.0  # log(0) = 0\n",
        "    if positive:\n",
        "        M[M < 0] = 0.0\n",
        "    return M\n",
        "\n",
        "M_pmi = pmi(M)\n",
        "np.set_printoptions(precision=2)\n",
        "print(M_pmi)"
      ]
    }
  ]
}