{
  "nbformat": 4,
  "nbformat_minor": 0,
  "metadata": {
    "colab": {
      "name": "6_0(gensim).ipynb",
      "provenance": [],
      "collapsed_sections": [],
      "machine_shape": "hm"
    },
    "kernelspec": {
      "name": "python3",
      "display_name": "Python 3"
    },
    "accelerator": "GPU"
  },
  "cells": [
    {
      "cell_type": "markdown",
      "source": [
        "#Word2Vec實作\n",
        "* 字詞所代表的意義非常多元，在不同狀況下，會代表不同意思。要把多元意思用單一向量表示，則必須要進行word embedding的動作，也就是把高維向量降為低維向量的過程\n",
        "*之前介紹過，利用分散式表示法來表達字詞向量，例如PMI、SVD..統計法..等\n",
        "*2013年神經網路盛行後，Tomas Mikolov利用神經網路訓練方式，來獲得字詞的表達向量，獲得很棒的成果。一般認為是利用神經網路模擬人類的理解能力，獲得不錯的分布空間所得到的成果。\n",
        "*本範例以維基百科wiki部分資料作範例\n",
        "*資料來源：https://dumps.wikimedia.org/zhwiki/20220401/zhwiki-20220401-pages-articles-multistream.xml.bz2\n",
        "*利用結巴分詞(jieba)進行斷詞，gensim套件進行word2vec計算\n"
      ],
      "metadata": {
        "id": "f3ZwZ5XbghWo"
      }
    },
    {
      "cell_type": "markdown",
      "metadata": {
        "id": "Ssk5BSNbelCF"
      },
      "source": [
        "## 資料準備\n",
        "* 先到  https://dumps.wikimedia.org/zhwiki/20220401/zhwiki-20220401-pages-articles-multistream.xml.bz2 下載\n",
        "* 上傳到google drive上\n",
        "* 在colab中掛載你的google drive"
      ]
    },
    {
      "cell_type": "code",
      "metadata": {
        "id": "Act-waJIjyD4"
      },
      "source": [
        "# ! wget https://dumps.wikimedia.org/zhwiki/20220401/zhwiki-20220401-pages-articles-multistream.xml.bz2"
      ],
      "execution_count": 11,
      "outputs": []
    },
    {
      "cell_type": "code",
      "source": [
        "!wget https://dumps.wikimedia.org/zhwiki/20220401/zhwiki-20220401-pages-articles-multistream1.xml-p1p187712.bz2"
      ],
      "metadata": {
        "id": "ylVzFulsmgzB",
        "colab": {
          "base_uri": "https://localhost:8080/"
        },
        "outputId": "6cf40c07-ba6a-44ed-f780-0c72fb319f14"
      },
      "execution_count": 2,
      "outputs": [
        {
          "output_type": "stream",
          "name": "stdout",
          "text": [
            "--2022-04-20 06:24:06--  https://dumps.wikimedia.org/zhwiki/20220401/zhwiki-20220401-pages-articles-multistream1.xml-p1p187712.bz2\n",
            "Resolving dumps.wikimedia.org (dumps.wikimedia.org)... 208.80.154.7, 2620:0:861:1:208:80:154:7\n",
            "Connecting to dumps.wikimedia.org (dumps.wikimedia.org)|208.80.154.7|:443... connected.\n",
            "HTTP request sent, awaiting response... 200 OK\n",
            "Length: 215920539 (206M) [application/octet-stream]\n",
            "Saving to: ‘zhwiki-20220401-pages-articles-multistream1.xml-p1p187712.bz2’\n",
            "\n",
            "zhwiki-20220401-pag 100%[===================>] 205.92M  4.38MB/s    in 48s     \n",
            "\n",
            "2022-04-20 06:24:54 (4.31 MB/s) - ‘zhwiki-20220401-pages-articles-multistream1.xml-p1p187712.bz2’ saved [215920539/215920539]\n",
            "\n"
          ]
        }
      ]
    },
    {
      "cell_type": "code",
      "metadata": {
        "id": "0Ta_qze2iHJi",
        "colab": {
          "base_uri": "https://localhost:8080/"
        },
        "outputId": "fb54188e-174f-4879-8696-0ba47bb4043e"
      },
      "source": [
        "!pip install opencc-python-reimplemented"
      ],
      "execution_count": 3,
      "outputs": [
        {
          "output_type": "stream",
          "name": "stdout",
          "text": [
            "Collecting opencc-python-reimplemented\n",
            "  Downloading opencc-python-reimplemented-0.1.6.tar.gz (484 kB)\n",
            "\u001b[?25l\r\u001b[K     |▊                               | 10 kB 33.2 MB/s eta 0:00:01\r\u001b[K     |█▍                              | 20 kB 34.3 MB/s eta 0:00:01\r\u001b[K     |██                              | 30 kB 34.9 MB/s eta 0:00:01\r\u001b[K     |██▊                             | 40 kB 13.1 MB/s eta 0:00:01\r\u001b[K     |███▍                            | 51 kB 14.7 MB/s eta 0:00:01\r\u001b[K     |████                            | 61 kB 16.3 MB/s eta 0:00:01\r\u001b[K     |████▊                           | 71 kB 17.6 MB/s eta 0:00:01\r\u001b[K     |█████▍                          | 81 kB 18.4 MB/s eta 0:00:01\r\u001b[K     |██████                          | 92 kB 20.0 MB/s eta 0:00:01\r\u001b[K     |██████▊                         | 102 kB 21.5 MB/s eta 0:00:01\r\u001b[K     |███████▍                        | 112 kB 21.5 MB/s eta 0:00:01\r\u001b[K     |████████▏                       | 122 kB 21.5 MB/s eta 0:00:01\r\u001b[K     |████████▉                       | 133 kB 21.5 MB/s eta 0:00:01\r\u001b[K     |█████████▌                      | 143 kB 21.5 MB/s eta 0:00:01\r\u001b[K     |██████████▏                     | 153 kB 21.5 MB/s eta 0:00:01\r\u001b[K     |██████████▉                     | 163 kB 21.5 MB/s eta 0:00:01\r\u001b[K     |███████████▌                    | 174 kB 21.5 MB/s eta 0:00:01\r\u001b[K     |████████████▏                   | 184 kB 21.5 MB/s eta 0:00:01\r\u001b[K     |████████████▉                   | 194 kB 21.5 MB/s eta 0:00:01\r\u001b[K     |█████████████▌                  | 204 kB 21.5 MB/s eta 0:00:01\r\u001b[K     |██████████████▏                 | 215 kB 21.5 MB/s eta 0:00:01\r\u001b[K     |██████████████▉                 | 225 kB 21.5 MB/s eta 0:00:01\r\u001b[K     |███████████████▌                | 235 kB 21.5 MB/s eta 0:00:01\r\u001b[K     |████████████████▎               | 245 kB 21.5 MB/s eta 0:00:01\r\u001b[K     |█████████████████               | 256 kB 21.5 MB/s eta 0:00:01\r\u001b[K     |█████████████████▋              | 266 kB 21.5 MB/s eta 0:00:01\r\u001b[K     |██████████████████▎             | 276 kB 21.5 MB/s eta 0:00:01\r\u001b[K     |███████████████████             | 286 kB 21.5 MB/s eta 0:00:01\r\u001b[K     |███████████████████▋            | 296 kB 21.5 MB/s eta 0:00:01\r\u001b[K     |████████████████████▎           | 307 kB 21.5 MB/s eta 0:00:01\r\u001b[K     |█████████████████████           | 317 kB 21.5 MB/s eta 0:00:01\r\u001b[K     |█████████████████████▋          | 327 kB 21.5 MB/s eta 0:00:01\r\u001b[K     |██████████████████████▎         | 337 kB 21.5 MB/s eta 0:00:01\r\u001b[K     |███████████████████████         | 348 kB 21.5 MB/s eta 0:00:01\r\u001b[K     |███████████████████████▊        | 358 kB 21.5 MB/s eta 0:00:01\r\u001b[K     |████████████████████████▍       | 368 kB 21.5 MB/s eta 0:00:01\r\u001b[K     |█████████████████████████       | 378 kB 21.5 MB/s eta 0:00:01\r\u001b[K     |█████████████████████████▊      | 389 kB 21.5 MB/s eta 0:00:01\r\u001b[K     |██████████████████████████▍     | 399 kB 21.5 MB/s eta 0:00:01\r\u001b[K     |███████████████████████████     | 409 kB 21.5 MB/s eta 0:00:01\r\u001b[K     |███████████████████████████▊    | 419 kB 21.5 MB/s eta 0:00:01\r\u001b[K     |████████████████████████████▍   | 430 kB 21.5 MB/s eta 0:00:01\r\u001b[K     |█████████████████████████████   | 440 kB 21.5 MB/s eta 0:00:01\r\u001b[K     |█████████████████████████████▊  | 450 kB 21.5 MB/s eta 0:00:01\r\u001b[K     |██████████████████████████████▍ | 460 kB 21.5 MB/s eta 0:00:01\r\u001b[K     |███████████████████████████████ | 471 kB 21.5 MB/s eta 0:00:01\r\u001b[K     |███████████████████████████████▉| 481 kB 21.5 MB/s eta 0:00:01\r\u001b[K     |████████████████████████████████| 484 kB 21.5 MB/s \n",
            "\u001b[?25hBuilding wheels for collected packages: opencc-python-reimplemented\n",
            "  Building wheel for opencc-python-reimplemented (setup.py) ... \u001b[?25l\u001b[?25hdone\n",
            "  Created wheel for opencc-python-reimplemented: filename=opencc_python_reimplemented-0.1.6-py2.py3-none-any.whl size=486152 sha256=d662ae420647918bc5f08a5996cb4c73a3b64e5c1539d7afcb1fadfe1c5cbab8\n",
            "  Stored in directory: /root/.cache/pip/wheels/4e/e2/60/d062d260be08788bb389521544a8fc173de9a9a78d6a593344\n",
            "Successfully built opencc-python-reimplemented\n",
            "Installing collected packages: opencc-python-reimplemented\n",
            "Successfully installed opencc-python-reimplemented-0.1.6\n"
          ]
        }
      ]
    },
    {
      "cell_type": "code",
      "metadata": {
        "id": "1BIoy7K5eqIS"
      },
      "source": [
        "from gensim.corpora import WikiCorpus\n",
        "\n",
        "wiki_corpus = WikiCorpus('zhwiki-20220401-pages-articles-multistream1.xml-p1p187712.bz2', dictionary={})"
      ],
      "execution_count": 4,
      "outputs": []
    },
    {
      "cell_type": "code",
      "metadata": {
        "id": "0T7ZZpDr3Sg8",
        "colab": {
          "base_uri": "https://localhost:8080/"
        },
        "outputId": "54279e32-b977-43c1-8fc0-20ff8e584963"
      },
      "source": [
        "wiki_corpus"
      ],
      "execution_count": 5,
      "outputs": [
        {
          "output_type": "execute_result",
          "data": {
            "text/plain": [
              "<gensim.corpora.wikicorpus.WikiCorpus at 0x7fb62e662d10>"
            ]
          },
          "metadata": {},
          "execution_count": 5
        }
      ]
    },
    {
      "cell_type": "code",
      "metadata": {
        "id": "KqX5g3Idsp-V",
        "colab": {
          "base_uri": "https://localhost:8080/"
        },
        "outputId": "4a6eca74-bcc8-4b26-a334-d88c4f6cccfb"
      },
      "source": [
        "next(iter(wiki_corpus.get_texts()))[:10]"
      ],
      "execution_count": 6,
      "outputs": [
        {
          "output_type": "execute_result",
          "data": {
            "text/plain": [
              "['歐幾里得',\n",
              " '西元前三世紀的古希臘數學家',\n",
              " '現在被認為是幾何之父',\n",
              " '此畫為拉斐爾的作品',\n",
              " '雅典學院',\n",
              " '数学',\n",
              " '是研究數量',\n",
              " '从某种角度看屬於形式科學的一種',\n",
              " '數學利用抽象化和邏輯推理',\n",
              " '從計數']"
            ]
          },
          "metadata": {},
          "execution_count": 6
        }
      ]
    },
    {
      "cell_type": "code",
      "metadata": {
        "id": "AL99YGiSfhGu",
        "colab": {
          "base_uri": "https://localhost:8080/"
        },
        "outputId": "c2c7b1cb-c021-4188-864e-481987610d2e"
      },
      "source": [
        "text_num = 0\n",
        "\n",
        "with open('wiki_text.txt', 'w', encoding='utf-8') as f:\n",
        "    for text in wiki_corpus.get_texts():\n",
        "        f.write(' '.join(text)+'\\n')\n",
        "        text_num += 1\n",
        "        if text_num % 10000 == 0:\n",
        "            print('{} articles processed.'.format(text_num))\n",
        "\n",
        "    print('{} articles processed.'.format(text_num))"
      ],
      "execution_count": 7,
      "outputs": [
        {
          "output_type": "stream",
          "name": "stdout",
          "text": [
            "10000 articles processed.\n",
            "20000 articles processed.\n",
            "30000 articles processed.\n",
            "32329 articles processed.\n"
          ]
        }
      ]
    },
    {
      "cell_type": "code",
      "metadata": {
        "id": "FQ01OEi6szXr",
        "colab": {
          "base_uri": "https://localhost:8080/"
        },
        "outputId": "2b1d9b14-6e3e-4bef-fee5-e37fbdec137a"
      },
      "source": [
        "import jieba\n",
        "from opencc import OpenCC\n",
        "\n",
        "\n",
        "# Initial\n",
        "cc = OpenCC('s2t')\n",
        "train_data = open('wiki_text.txt', 'r', encoding='utf-8').read()\n",
        "train_data = cc.convert(train_data)\n",
        "train_data = jieba.lcut(train_data)\n",
        "train_data = [word for word in train_data if word != '']\n",
        "train_data = ' '.join(train_data)\n",
        "open('seg.txt', 'w', encoding='utf-8').write(train_data)"
      ],
      "execution_count": 8,
      "outputs": [
        {
          "output_type": "stream",
          "name": "stderr",
          "text": [
            "Building prefix dict from the default dictionary ...\n",
            "Dumping model to file cache /tmp/jieba.cache\n",
            "Loading model cost 0.779 seconds.\n",
            "Prefix dict has been built successfully.\n"
          ]
        },
        {
          "output_type": "execute_result",
          "data": {
            "text/plain": [
              "129900316"
            ]
          },
          "metadata": {},
          "execution_count": 8
        }
      ]
    },
    {
      "cell_type": "code",
      "metadata": {
        "id": "FXxRBbays3k0"
      },
      "source": [
        "from gensim.models import word2vec\n",
        "\n",
        "\n",
        "# Settings\n",
        "seed = 666\n",
        "sg = 0\n",
        "window_size = 10\n",
        "vector_size = 100\n",
        "min_count = 1\n",
        "workers = 8\n",
        "epochs = 5\n",
        "batch_words = 10000\n",
        "\n",
        "train_data = word2vec.LineSentence('seg.txt')\n",
        "model = word2vec.Word2Vec(\n",
        "    train_data,\n",
        "    min_count=min_count,\n",
        "    size=vector_size,\n",
        "    workers=workers,\n",
        "    iter=epochs,\n",
        "    window=window_size,\n",
        "    sg=sg,\n",
        "    seed=seed,\n",
        "    batch_words=batch_words\n",
        ")\n",
        "\n",
        "model.save('word2vec.model')"
      ],
      "execution_count": 9,
      "outputs": []
    },
    {
      "cell_type": "code",
      "metadata": {
        "id": "1PovTacQs-R_",
        "colab": {
          "base_uri": "https://localhost:8080/"
        },
        "outputId": "194b8d97-d1e5-47e0-e0c0-cb681821bad5"
      },
      "source": [
        "from gensim.models import word2vec\n",
        "\n",
        "string = '手機'\n",
        "model = word2vec.Word2Vec.load('word2vec.model')\n",
        "print(string)\n",
        "\n",
        "for item in model.wv.most_similar(string):\n",
        "    print(item)"
      ],
      "execution_count": 10,
      "outputs": [
        {
          "output_type": "stream",
          "name": "stdout",
          "text": [
            "手機\n",
            "('智慧型', 0.859980046749115)\n",
            "('app', 0.8129454851150513)\n",
            "('上網', 0.7868192195892334)\n",
            "('手提', 0.7817513942718506)\n",
            "('機頂', 0.7816614508628845)\n",
            "('筆電', 0.7698698043823242)\n",
            "('android', 0.7683750987052917)\n",
            "('遊戲機', 0.7668406963348389)\n",
            "('qq', 0.7605229616165161)\n",
            "('pda', 0.7589335441589355)\n"
          ]
        }
      ]
    },
    {
      "cell_type": "code",
      "metadata": {
        "id": "E235am9EVIuG"
      },
      "source": [
        ""
      ],
      "execution_count": 10,
      "outputs": []
    }
  ]
}