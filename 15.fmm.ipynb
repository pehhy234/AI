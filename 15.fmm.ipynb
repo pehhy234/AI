{
  "nbformat": 4,
  "nbformat_minor": 0,
  "metadata": {
    "colab": {
      "name": "4_0(fmm).ipynb",
      "provenance": [],
      "collapsed_sections": []
    },
    "kernelspec": {
      "name": "python3",
      "display_name": "Python 3"
    },
    "language_info": {
      "name": "python"
    }
  },
  "cells": [
    {
      "cell_type": "markdown",
      "source": [
        "#FMM 正向最大符合（Forward Maximum Matching)\n",
        "* 英文有明確的空格當作字詞分隔，因此很容易進行例如n-grams的操作。但是中文無明確的字詞分隔\n",
        "*因此中文必須進行\"斷詞(分詞)\"的工作\n",
        "*除了查字典進行斷詞工作外，FMM是從前向後，掃描句子中的字串，儘量找到詞典中較長的單字，作為分詞的結果"
      ],
      "metadata": {
        "id": "9Hwv4lOSf1zx"
      }
    },
    {
      "cell_type": "code",
      "source": [
        "# 上傳lexicon.txt"
      ],
      "metadata": {
        "id": "oaA4OE72-FjK"
      },
      "execution_count": 1,
      "outputs": []
    },
    {
      "cell_type": "code",
      "execution_count": 2,
      "metadata": {
        "colab": {
          "base_uri": "https://localhost:8080/"
        },
        "id": "ymAuokmn6c0W",
        "outputId": "285366cf-23df-459d-81d7-86e3885f18b9"
      },
      "outputs": [
        {
          "output_type": "stream",
          "name": "stdout",
          "text": [
            "輸入句字：防疫指揮中心\n",
            "防疫\n",
            "指揮\n",
            "中心\n"
          ]
        }
      ],
      "source": [
        "def load_dict():\n",
        "    f = open(\"lexicon.txt\")\n",
        "    lexicon = set()\n",
        "    max_len = 0\n",
        "    for line in f:\n",
        "        word = line.strip()\n",
        "        lexicon.add(word)\n",
        "        if len(word) > max_len:\n",
        "            max_len = len(word)\n",
        "    f.close()\n",
        "\n",
        "    return lexicon, max_len\n",
        "\n",
        "def fmm_word_seg(sentence, lexicon, max_len):\n",
        "    begin = 0\n",
        "    end = min(begin + max_len, len(sentence))\n",
        "    words = []\n",
        "    while begin < end:\n",
        "        word = sentence[begin:end]\n",
        "        if word in lexicon or end - begin == 1:\n",
        "            words.append(word)\n",
        "            begin = end\n",
        "            end = min(begin + max_len, len(sentence))\n",
        "        else:\n",
        "            end -= 1\n",
        "    return words\n",
        "\n",
        "lexicon, max_len = load_dict()\n",
        "words = fmm_word_seg(input(\"輸入句字：\"), lexicon, max_len)\n",
        "\n",
        "for word in words:\n",
        "    print(word,) \n"
      ]
    }
  ]
}